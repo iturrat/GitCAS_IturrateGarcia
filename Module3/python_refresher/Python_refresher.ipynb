{
  "cells": [
    {
      "cell_type": "markdown",
      "metadata": {},
      "source": [
        "<a href=\"https://colab.research.google.com/github/neworldemancer/DSF5/blob/master/Python_refresher.ipynb\" target=\"_parent\"><img src=\"https://colab.research.google.com/assets/colab-badge.svg\" alt=\"Open In Colab\"/></a>"
      ]
    },
    {
      "cell_type": "markdown",
      "metadata": {},
      "source": [
        "# Homework: Python for machine learning and Data Analysis\n",
        "#### Here are listed the most common Python & NumPy methods used in the course, as well as usage examples. This sheet doesn't contain extensive information. Please refer to the documentation for details.\n",
        "\n",
        "\n",
        "Prepared by Mykhailo Vladymyrov,\n",
        "Science IT Support, University of Bern, 2023\n",
        "\n",
        "Modified by Aris Marcolongo for the CAS ADS M3, 2024\n",
        "\n",
        "This work is licensed under <a href=\"https://creativecommons.org/share-your-work/public-domain/cc0/\">CC0</a>.\n"
      ]
    },
    {
      "cell_type": "markdown",
      "metadata": {
        "id": "HG8uZJrln4kz"
      },
      "source": [
        "# 0. Most common data structures: List, tuple, set, dict"
      ]
    },
    {
      "cell_type": "code",
      "execution_count": null,
      "metadata": {
        "id": "_WoGFvYlej7w"
      },
      "outputs": [],
      "source": [
        "# A `tuple` can contain any number of any element and can't be modified\n",
        "x_coordinates = (0, 1, 2, 3)\n",
        "\n",
        "#               ^ ---------^ tuple is written in normal brackets"
      ]
    },
    {
      "cell_type": "code",
      "execution_count": null,
      "metadata": {
        "id": "B_0hJbH2e2NV"
      },
      "outputs": [],
      "source": [
        "# To see what any object is, it's a good idea to print it:\n",
        "print(x_coordinates)"
      ]
    },
    {
      "cell_type": "code",
      "execution_count": null,
      "metadata": {
        "id": "YDUxG2tdfEUF"
      },
      "outputs": [],
      "source": [
        "# or just:\n",
        "x_coordinates"
      ]
    },
    {
      "cell_type": "code",
      "execution_count": null,
      "metadata": {
        "id": "rjRceVMWfG84"
      },
      "outputs": [],
      "source": [
        "# As well as check it's type:\n",
        "type(x_coordinates)"
      ]
    },
    {
      "cell_type": "code",
      "execution_count": null,
      "metadata": {
        "id": "6JXaYnPhkHEK"
      },
      "outputs": [],
      "source": [
        "# and available methods and properties\n",
        "dir(x_coordinates)"
      ]
    },
    {
      "cell_type": "code",
      "execution_count": null,
      "metadata": {
        "id": "85mENGBBkMcR"
      },
      "outputs": [],
      "source": [
        "# the `__doc__` property often contains useful info\n",
        "print(x_coordinates.__doc__)"
      ]
    },
    {
      "cell_type": "code",
      "execution_count": null,
      "metadata": {
        "id": "BP7PCSQsoAPQ"
      },
      "outputs": [],
      "source": [
        "# Function len called on any collection — array like object — will return it's length\n",
        "\n",
        "x_coordinates_length = len(x_coordinates)\n",
        "print('length of the `x_coordinates` is', x_coordinates_length)"
      ]
    },
    {
      "cell_type": "code",
      "execution_count": null,
      "metadata": {
        "id": "3n-L1q4egLCS"
      },
      "outputs": [],
      "source": [
        "print('Also it is handy to use so-called f-strings (formatted string): they allow to easily format the output:')\n",
        "print(f'For example:\\n\\tlength of the `x_coordinates={x_coordinates}` is {x_coordinates_length}')\n",
        "\n",
        "#     ^------- f before string marks an f-string\n"
      ]
    },
    {
      "cell_type": "code",
      "execution_count": null,
      "metadata": {
        "id": "q2DFllByhrBz"
      },
      "outputs": [],
      "source": [
        "# `list` is similar to `tuple`, but can be modified:\n",
        "\n",
        "y_coordinates = [1, 1, 4]\n",
        "\n",
        "#               ^ ---------^ list is written in square brackets"
      ]
    },
    {
      "cell_type": "code",
      "execution_count": null,
      "metadata": {
        "id": "ehJvl7fLoBtL"
      },
      "outputs": [],
      "source": [
        "# One can loop through elements of a collection:\n",
        "\n",
        "for x in x_coordinates:\n",
        "  print (x)"
      ]
    },
    {
      "cell_type": "code",
      "execution_count": null,
      "metadata": {
        "id": "xn7tgZnAiZEW"
      },
      "outputs": [],
      "source": [
        "# Or also obtain the index of the element:\n",
        "\n",
        "for idx, y in enumerate(y_coordinates):\n",
        "  print (f'y[{idx}] = {y}')"
      ]
    },
    {
      "cell_type": "code",
      "execution_count": null,
      "metadata": {
        "id": "npPC3AIyng6e"
      },
      "outputs": [],
      "source": [
        "# Several collections can be iterated together by zipping them:\n",
        "\n",
        "for x, y in zip(x_coordinates, y_coordinates):\n",
        "  print (x, y)"
      ]
    },
    {
      "cell_type": "code",
      "execution_count": null,
      "metadata": {
        "id": "iP0ZE9KEjXXy"
      },
      "outputs": [],
      "source": [
        "# Elements of the list can be modified:\n",
        "print(y_coordinates[0])\n",
        "y_coordinates[0] = 0\n",
        "print(y_coordinates[1])\n",
        "print(y_coordinates)"
      ]
    },
    {
      "cell_type": "code",
      "execution_count": null,
      "metadata": {
        "id": "KrK_a1e4lDAk"
      },
      "outputs": [],
      "source": [
        "# `list` can be created from another collection:\n",
        "\n",
        "x_coordinates = list(x_coordinates)\n",
        "print(f'now `x_coordinates` is {type(x_coordinates)}')"
      ]
    },
    {
      "cell_type": "code",
      "execution_count": null,
      "metadata": {
        "id": "aSIod_Rxk2aC"
      },
      "outputs": [],
      "source": [
        "# Elements can be appended to a list\n",
        "\n",
        "\n",
        "y_coordinates.append(9)\n",
        "print(y_coordinates)\n",
        "\n",
        "y_coordinates.append(16)\n",
        "print(y_coordinates)\n",
        "\n",
        "y_coordinates.append(25)\n",
        "print(y_coordinates)\n"
      ]
    },
    {
      "cell_type": "code",
      "execution_count": null,
      "metadata": {
        "id": "lVIWxE6FoDcm"
      },
      "outputs": [],
      "source": [
        "# Extended with another list:\n",
        "x_coordinates.extend([4, 5])"
      ]
    },
    {
      "cell_type": "code",
      "execution_count": null,
      "metadata": {
        "id": "S00vbLWWlyeV"
      },
      "outputs": [],
      "source": [
        "# or added\n",
        "\n",
        "all_numbers = x_coordinates + y_coordinates\n",
        "print(all_numbers)"
      ]
    },
    {
      "cell_type": "code",
      "execution_count": null,
      "metadata": {
        "id": "RIeE7l2Gpg1E"
      },
      "outputs": [],
      "source": [
        "# `set` - is a collection of unique elements:\n",
        "unique_numbers = set(all_numbers)\n",
        "print(unique_numbers)"
      ]
    },
    {
      "cell_type": "code",
      "execution_count": null,
      "metadata": {
        "id": "Va8RWA0vmdjL"
      },
      "outputs": [],
      "source": [
        "# `dictionary` is a collection where the values are assigned to unique keys and can be accessed by the key:\n",
        "\n",
        "uptime_hours = {'jupyter': 10, 'chrome': 30}"
      ]
    },
    {
      "cell_type": "code",
      "execution_count": null,
      "metadata": {
        "id": "lDkXouaBoE6j"
      },
      "outputs": [],
      "source": [
        "print(uptime_hours['jupyter'])"
      ]
    },
    {
      "cell_type": "code",
      "execution_count": null,
      "metadata": {
        "id": "w2XKXUUrpkQU"
      },
      "outputs": [],
      "source": [
        "# `list` comprehensions are a quick way to define a list:\n",
        "\n",
        "y_coordinates = [x**2 for x in x_coordinates]\n",
        "print(y_coordinates)"
      ]
    },
    {
      "cell_type": "code",
      "execution_count": null,
      "metadata": {
        "id": "OVGGeg_QodDc"
      },
      "outputs": [],
      "source": [
        "# `set`:\n",
        "values = {v%7 for v in y_coordinates}\n",
        "print(values)"
      ]
    },
    {
      "cell_type": "code",
      "execution_count": null,
      "metadata": {
        "id": "SRLIn6wQot8b"
      },
      "outputs": [],
      "source": [
        "# `dictionary`\n",
        "\n",
        "x_at_y = {y:x for x, y in zip(x_coordinates, y_coordinates)}\n",
        "print(x_at_y)\n",
        "print(x_at_y[25])"
      ]
    },
    {
      "cell_type": "markdown",
      "metadata": {},
      "source": [
        "# 1. Functions, classes and modules"
      ]
    },
    {
      "cell_type": "markdown",
      "metadata": {},
      "source": [
        "### Functions"
      ]
    },
    {
      "cell_type": "code",
      "execution_count": null,
      "metadata": {},
      "outputs": [],
      "source": [
        "# A function in python takes an input and returns an output:\n",
        "\n",
        "def my_addition(input):\n",
        "    output = input + 2\n",
        "    return output\n",
        "\n",
        "print(my_addition(5))"
      ]
    },
    {
      "cell_type": "code",
      "execution_count": null,
      "metadata": {},
      "outputs": [],
      "source": [
        "# The number of parameters can be more than one\n",
        "\n",
        "def my_addition(input, delta):\n",
        "    output = input + delta\n",
        "    return output\n",
        "\n",
        "print(my_addition(5,7))"
      ]
    },
    {
      "cell_type": "code",
      "execution_count": null,
      "metadata": {},
      "outputs": [],
      "source": [
        "# Arguments can also have default values:\n",
        "\n",
        "def my_addition(input, delta=10):\n",
        "    output = input + delta\n",
        "    return output\n",
        "\n",
        "print(my_addition(5))\n",
        "print(my_addition(5, 12))"
      ]
    },
    {
      "cell_type": "code",
      "execution_count": null,
      "metadata": {},
      "outputs": [],
      "source": [
        "# When calling a function, keyword arguments can be added at the end after positional ones.\n",
        "res = my_addition(5, delta=9)\n",
        "print(res)"
      ]
    },
    {
      "cell_type": "markdown",
      "metadata": {},
      "source": [
        "### Classes and Modules"
      ]
    },
    {
      "cell_type": "markdown",
      "metadata": {},
      "source": [
        "#### -- Classes: how to define a class"
      ]
    },
    {
      "cell_type": "markdown",
      "metadata": {},
      "source": [
        "We will not program many classes in the course, but use them often. In the following please focus on understanding and remembering the terminology!"
      ]
    },
    {
      "cell_type": "markdown",
      "metadata": {},
      "source": [
        "Main properties:\n",
        "\n",
        "- Classes combine data-structures and functions together\n",
        "\n",
        "- Classes contain an `__init__` method and additional ones, with the basic syntax:\n",
        "\n",
        "```\n",
        "class class_name():\n",
        "    def __init__(self, ...):\n",
        "        ...\n",
        "\n",
        "    def method_name(self, ...):\n",
        "        ...\n",
        "```\n",
        "\n",
        ", where the dots ... should be replaced by parameters or code. \n",
        "\n",
        "NB: For practical purposes we consider the `self` parameter as purely syntactic. It appears in the definition of the class (as above) but not when using it."
      ]
    },
    {
      "cell_type": "code",
      "execution_count": null,
      "metadata": {},
      "outputs": [],
      "source": [
        "# Example of a class definition:\n",
        "\n",
        "class MyChatBot():\n",
        "    def __init__(self, name):\n",
        "        print(f'Hello {name}. This is the init method.')\n"
      ]
    },
    {
      "cell_type": "markdown",
      "metadata": {},
      "source": [
        "\n",
        "To `use a class`, we instantiate/construct `objects` (also called `instances`) of that class, using the following syntax:\n",
        "\n",
        "`object_name =  class_name(...)`\n",
        "\n",
        "where the ... contains parameters of the `__init__` method\n",
        "\n",
        "NB: The init method is called immediately when the object is created, using the parameters provided during construction."
      ]
    },
    {
      "cell_type": "code",
      "execution_count": null,
      "metadata": {},
      "outputs": [],
      "source": [
        "# Basic class structure:\n",
        "\n",
        "class MyChatBot():\n",
        "    def __init__(self, name):\n",
        "        print(f'Hello {name}. This is the init method.')\n",
        "\n",
        "# Creating objects beloning to the class. Note that the __init__ function is executed:\n",
        "chatbot = MyChatBot('Mike')"
      ]
    },
    {
      "cell_type": "markdown",
      "metadata": {},
      "source": [
        "#### -- Classes: how to use methods and variables"
      ]
    },
    {
      "cell_type": "markdown",
      "metadata": {},
      "source": [
        "To use the class methods, instantiate an object and call `object_name.method_name`. This is always referred to as the `dot` notation:"
      ]
    },
    {
      "cell_type": "code",
      "execution_count": null,
      "metadata": {},
      "outputs": [],
      "source": [
        "# Basic structure with additional method:\n",
        "class MyChatBot():\n",
        "    def __init__(self, name):\n",
        "        print(f'Hello {name}. This is the init method.')\n",
        "    def answer(self, question): # This is a class method!\n",
        "        print(f'Hello. I am not sure I understood. Did you just say \"{question}\" ?')\n",
        "\n",
        "# Using of the method with dot notation:\n",
        "chatbot = MyChatBot('Mike')\n",
        "chatbot.answer('What is the answer to life?')"
      ]
    },
    {
      "cell_type": "markdown",
      "metadata": {},
      "source": [
        "A class has `attributes` in addition to `methods`, where variables are stored. \n",
        "\n",
        "Variables/attributes are accessed:\n",
        "- `during development`:  inside the class definition use the syntax `self.variable_name` ;\n",
        "\n",
        "- `using the class via an object`: use the dot notation `object_name.variable_name`, similar to methods ;\n",
        "\n"
      ]
    },
    {
      "cell_type": "code",
      "execution_count": null,
      "metadata": {},
      "outputs": [],
      "source": [
        "# Here we define a variable inside the class, called \"name\" and use it in the answer method:\n",
        "\n",
        "class MyChatBot():\n",
        "    def __init__(self, name):\n",
        "        print(f'Hello {name}. This is the init method.')\n",
        "        self.name = name # This is a class variable!\n",
        "    def answer(self, question):\n",
        "        print(f'Hello {self.name}. I am not sure I understood. Did you just say \"{question}\" ?')\n",
        "\n",
        "# Usage of new method is as before:\n",
        "chatbot = MyChatBot('Mike')\n",
        "chatbot.answer('What is the answer to life?')\n",
        "\n",
        "# The variable can now be accessed with the dot notation also outside of the class:\n",
        "print('Accessing variable value outside of the class: ', chatbot.name)"
      ]
    },
    {
      "cell_type": "markdown",
      "metadata": {},
      "source": [
        "#### -- Modules: how to import classes and functions defined in external files or libraries"
      ]
    },
    {
      "cell_type": "markdown",
      "metadata": {},
      "source": [
        "Modules can be considered as `a collection of methods, variables and classes`, that can be imported from a python program. \n",
        "\n",
        "Often classes are not explicitely defined, but imported from modules and objects constructed, without accessing directly the class definition.\n",
        "\n",
        "We import modules, or classes contained in modules, with the following syntaxes:\n",
        "\n",
        "`import module_name`\n",
        "\n",
        "`import module_name as module_alias`\n",
        "\n",
        "`from module_name import class_name`\n",
        "\n",
        "For demonstration we import the class Counter from the collections library and use it to process a list:  "
      ]
    },
    {
      "cell_type": "code",
      "execution_count": null,
      "metadata": {},
      "outputs": [],
      "source": [
        "from collections import Counter\n",
        "\n",
        "fruits = ['apple', 'banana', 'orange', 'apple', 'orange', 'banana', 'apple', 'banana', 'apple', 'banana', 'kiwi']\n",
        "fruit_counter = Counter(fruits)\n",
        "\n",
        "# Get the most common fruits using the most_common() method\n",
        "most_common_fruits = fruit_counter.most_common()\n",
        "print(most_common_fruits[0])"
      ]
    },
    {
      "cell_type": "markdown",
      "metadata": {},
      "source": [
        "Methods from modules are called as well with the dot syntax (`module_name.method_name`)\n",
        "\n",
        "For demonstration we import here the math module and use the `sqrt` and `factorial` methods :"
      ]
    },
    {
      "cell_type": "code",
      "execution_count": null,
      "metadata": {},
      "outputs": [],
      "source": [
        "import math\n",
        "\n",
        "# Calculate the square root of a number\n",
        "num = 16\n",
        "sqrt_value = math.sqrt(num)\n",
        "print(f\"The square root of {num} is {sqrt_value}\")\n",
        "\n",
        "# Calculate the factorial of a number\n",
        "factorial_value = math.factorial(5)\n",
        "print(f\"The factorial of 5 is {factorial_value}\")\n",
        "\n",
        "# Use the value of pi from the math module\n",
        "print(f\"The value of pi is {math.pi}\")"
      ]
    },
    {
      "cell_type": "markdown",
      "metadata": {},
      "source": [
        "Other commonly used modules are `matplotlib.pyplot` and `numpy`, that we are going to explore more in detail."
      ]
    },
    {
      "cell_type": "markdown",
      "metadata": {
        "id": "TAmAx1ZDlXjT"
      },
      "source": [
        "# 2. Using `matplotlib.pyplot` module"
      ]
    },
    {
      "cell_type": "code",
      "execution_count": null,
      "metadata": {
        "id": "x_vlxByweeEE"
      },
      "outputs": [],
      "source": [
        "import matplotlib.pyplot as plt"
      ]
    },
    {
      "cell_type": "code",
      "execution_count": null,
      "metadata": {
        "id": "1hOOzT0ZN3xO"
      },
      "outputs": [],
      "source": [
        "x_coordinates = list(range(6))\n",
        "y_coordinates = [x**2 for x in x_coordinates]"
      ]
    },
    {
      "cell_type": "code",
      "execution_count": null,
      "metadata": {
        "id": "o5Wqm89oOGu2"
      },
      "outputs": [],
      "source": [
        "# Simple plot\n",
        "\n",
        "plt.plot(x_coordinates, y_coordinates)"
      ]
    },
    {
      "cell_type": "code",
      "execution_count": null,
      "metadata": {
        "id": "f0gwwI_ilrgQ"
      },
      "outputs": [],
      "source": [
        "# Scatter plot\n",
        "plt.scatter(x_coordinates, y_coordinates, marker='x', color='b', s=10)"
      ]
    },
    {
      "cell_type": "code",
      "execution_count": null,
      "metadata": {
        "id": "LFeRVBCARbQw"
      },
      "outputs": [],
      "source": [
        "# Scatter plot with axes range\n",
        "plt.scatter(x_coordinates, y_coordinates, marker='x', color='b', s=10)\n",
        "plt.xlim(0, 10)\n",
        "plt.ylim(0, 10)"
      ]
    },
    {
      "cell_type": "code",
      "execution_count": null,
      "metadata": {
        "id": "5mqZY6hFReu5"
      },
      "outputs": [],
      "source": [
        "# Plot with isotropic axes\n",
        "\n",
        "plt.scatter(x_coordinates, y_coordinates, marker='x', color='b', s=10)\n",
        "\n",
        "current_axis = plt.gca()\n",
        "current_axis.set_aspect('equal')"
      ]
    },
    {
      "cell_type": "code",
      "execution_count": null,
      "metadata": {},
      "outputs": [],
      "source": [
        "# Big plot, with details\n",
        "\n",
        "plt.figure(figsize=(8,8))  # plot size\n",
        "\n",
        "plt.plot(x_coordinates, y_coordinates)\n",
        "\n",
        "plt.xlabel('x coordinate')\n",
        "plt.ylabel('y coordinate')\n",
        "plt.title('x=y^2')\n"
      ]
    },
    {
      "cell_type": "code",
      "execution_count": null,
      "metadata": {
        "id": "QY_T2HmRl9Mw"
      },
      "outputs": [],
      "source": [
        "# Multiple plots can be combined with subplots:\n",
        "\n",
        "fig, ax = plt.subplots(nrows=2, ncols=2, figsize=(8, 8))\n",
        "\n",
        "ax[0][0].scatter(x_coordinates, y_coordinates, marker='x', color='b', s=30)\n",
        "ax[0][1].scatter(x_coordinates, y_coordinates, marker='o', c=y_coordinates, s=30)\n",
        "\n",
        "ax[1][0].plot(x_coordinates, y_coordinates)\n",
        "ax[1][1].scatter(x_coordinates, y_coordinates, marker='^', c=y_coordinates, s=30, cmap=plt.cm.Accent)\n"
      ]
    },
    {
      "cell_type": "code",
      "execution_count": null,
      "metadata": {
        "id": "0CKMn1PPmp9E"
      },
      "outputs": [],
      "source": [
        "# To make a plot in 3D\n",
        "\n",
        "fig = plt.figure(figsize=(8,8))\n",
        "ax = fig.add_subplot(111, projection='3d')\n",
        "z_coordinates = y_coordinates\n",
        "\n",
        "ax.scatter3D(x_coordinates, y_coordinates, z_coordinates, marker='x', s=20)\n"
      ]
    },
    {
      "cell_type": "markdown",
      "metadata": {
        "id": "iqyBKVXmfHvn"
      },
      "source": [
        "# 3. Using  `numpy` module"
      ]
    },
    {
      "cell_type": "code",
      "execution_count": null,
      "metadata": {
        "id": "SM4lpuQTZE8U"
      },
      "outputs": [],
      "source": [
        "import numpy as np"
      ]
    },
    {
      "cell_type": "markdown",
      "metadata": {},
      "source": [
        "`numpy` arrays are similar to `list`s mutable containers with much richer functionality"
      ]
    },
    {
      "cell_type": "code",
      "execution_count": null,
      "metadata": {
        "id": "rTNRdQvlpMAq"
      },
      "outputs": [],
      "source": [
        "# Array-like objects can be converted to `numpy` array:\n",
        "arr = np.array(x_coordinates)\n",
        "print(arr)"
      ]
    },
    {
      "cell_type": "code",
      "execution_count": null,
      "metadata": {
        "id": "tU2F9DBNpP9j"
      },
      "outputs": [],
      "source": [
        "# Attribute `shape` shows the size of an array.\n",
        "print(arr.shape)"
      ]
    },
    {
      "cell_type": "code",
      "execution_count": null,
      "metadata": {
        "id": "bf0WtJruTCbY"
      },
      "outputs": [],
      "source": [
        "# Shape is a `tuple` because an array can have more than one dimension:\n",
        "\n",
        "arr2d = np.asarray([[1,2,3], [4, 5, 6]])\n",
        "print(arr2d)\n",
        "print(arr2d.shape)  # last element of the shape - most inner dimension of the array"
      ]
    },
    {
      "cell_type": "code",
      "execution_count": null,
      "metadata": {
        "id": "Pe5Rr_zeXCen"
      },
      "outputs": [],
      "source": [
        "# Multidimensional array can be reshaped to different a shape, preserving the total number of elements and their order\n",
        "\n",
        "arr2d_r1 = arr2d.reshape((3, 2))\n",
        "print(arr2d_r1)"
      ]
    },
    {
      "cell_type": "code",
      "execution_count": null,
      "metadata": {
        "id": "KSD5HQ0dXYcC"
      },
      "outputs": [],
      "source": [
        "# or turned into 1-d with flatten method:\n",
        "\n",
        "arr2d_1d = arr2d.flatten()\n",
        "print(arr2d_1d, arr2d_1d.shape)"
      ]
    },
    {
      "cell_type": "code",
      "execution_count": null,
      "metadata": {
        "id": "GTGugOCbToZE"
      },
      "outputs": [],
      "source": [
        "# Slicing of an array:\n",
        "# start:stop - elements from start (included) till stop (excluded)\n",
        "\n",
        "print(arr[1:3])"
      ]
    },
    {
      "cell_type": "code",
      "execution_count": null,
      "metadata": {
        "id": "1-UMIkjlUKkT"
      },
      "outputs": [],
      "source": [
        "# Slicing of an array:\n",
        "# start:stop:step - elements from start (included) till stop (excluded) with stride step\n",
        "\n",
        "print(arr[1:6:2])"
      ]
    },
    {
      "cell_type": "code",
      "execution_count": null,
      "metadata": {
        "id": "ezZWjdifUPlG"
      },
      "outputs": [],
      "source": [
        "# Similarly for a multidimensional array:\n",
        "#\n",
        "print(arr2d[0:1, 1:3])"
      ]
    },
    {
      "cell_type": "code",
      "execution_count": null,
      "metadata": {
        "id": "21yoWRYRUhdf"
      },
      "outputs": [],
      "source": [
        "# `:` means take elements along the axis\n",
        "#\n",
        "print(arr2d[:, 1:3])"
      ]
    },
    {
      "cell_type": "code",
      "execution_count": null,
      "metadata": {
        "id": "Lcp7R64EUrRU"
      },
      "outputs": [],
      "source": [
        "# To take elements over several sequential axes - use ellipsis (...):\n",
        "#\n",
        "print(arr2d[..., 1:3])"
      ]
    },
    {
      "cell_type": "code",
      "execution_count": null,
      "metadata": {
        "id": "8xAcxvn4U9rm"
      },
      "outputs": [],
      "source": [
        "# To generate sequential integers (similar to `range`):\n",
        "numbers = np.arange(0, 20, 2)\n",
        "print(numbers)"
      ]
    },
    {
      "cell_type": "code",
      "execution_count": null,
      "metadata": {
        "id": "-Vjm0nkMVP6_"
      },
      "outputs": [],
      "source": [
        "# For floating point values\n",
        "\n",
        "x_coord = np.linspace(start=-1, stop=1, num=5)\n",
        "print (x_coord)"
      ]
    },
    {
      "cell_type": "code",
      "execution_count": null,
      "metadata": {
        "id": "XMa31sIQVl0L"
      },
      "outputs": [],
      "source": [
        "# Operations on the numpy arrays can be performed in a pythonic way:\n",
        "\n",
        "y_coord = 2*x_coord**2 + 3\n",
        "\n",
        "plt.plot(x_coord, y_coord)\n",
        "plt.gca().set_aspect('equal')"
      ]
    },
    {
      "cell_type": "code",
      "execution_count": null,
      "metadata": {
        "id": "KR5RK_ExV7aB"
      },
      "outputs": [],
      "source": [
        "# To generate uniformly distributed random numbers:\n",
        "rnd = np.random.uniform(0, 10, size=10)\n",
        "print(rnd)\n",
        "print(rnd.shape)"
      ]
    },
    {
      "cell_type": "code",
      "execution_count": null,
      "metadata": {
        "id": "SdrRHq1tWRue"
      },
      "outputs": [],
      "source": [
        "# or normally distributed, 3D array:\n",
        "rnd = np.random.normal(loc=0.5, scale=2, size=(3, 4, 5))\n",
        "print(rnd)\n",
        "print(rnd.shape)"
      ]
    },
    {
      "cell_type": "code",
      "execution_count": null,
      "metadata": {
        "id": "rZXXQ7joWtK1"
      },
      "outputs": [],
      "source": [
        "# Let's check distribution:\n",
        "plt.hist(rnd.flatten(), 10);"
      ]
    },
    {
      "cell_type": "code",
      "execution_count": null,
      "metadata": {
        "id": "xfx4gLbEmTZA"
      },
      "outputs": [],
      "source": [
        "# Arrays statistics can be obtained using the array methods:\n",
        "print('array `rnd` mean = ', rnd.mean())\n",
        "print('array `rnd` standard deviation = ', rnd.std())\n",
        "print('array `rnd` minimum = ', rnd.min())\n",
        "print('array `rnd` maximum = ', rnd.max())\n",
        "print()\n",
        "\n",
        "# , or with numpy functions :\n",
        "print('array `rnd` mean = ', np.mean(rnd))\n",
        "print('array `rnd` standard deviation = ', np.std(rnd))\n",
        "print('array `rnd` minimum = ', np.min(rnd))\n",
        "print('array `rnd` maximum = ', np.max(rnd))\n",
        "\n",
        "print()\n",
        "print('array `rnd` maximum 40th percentile= ', np.percentile(rnd, 40))"
      ]
    },
    {
      "cell_type": "code",
      "execution_count": null,
      "metadata": {
        "id": "oVhGYgE6YJJS"
      },
      "outputs": [],
      "source": [
        "# To get an element from a 1D array:\n",
        "print(np.random.choice(arr))"
      ]
    },
    {
      "cell_type": "code",
      "execution_count": null,
      "metadata": {
        "id": "04TaJO8RYaf1"
      },
      "outputs": [],
      "source": [
        "# or several elements:\n",
        "mtx = np.random.choice(arr, size=(2,2))\n",
        "print(mtx)"
      ]
    },
    {
      "cell_type": "code",
      "execution_count": null,
      "metadata": {
        "id": "e7WySajre_xb"
      },
      "outputs": [],
      "source": [
        "# Matrix multiplication\n",
        "np.dot([1, 2], mtx)  # can be also written as [1, 2]@ mtx"
      ]
    },
    {
      "cell_type": "code",
      "execution_count": null,
      "metadata": {
        "id": "KJ3npk1vmcwu"
      },
      "outputs": [],
      "source": [
        "# Sometimes it's needed to obtain a grid of values, given a set of values along each axis,\n",
        "# e.g. for a grid search or visualization. `meshgrid` does it so:\n",
        "\n",
        "\n",
        "# define set of values along x, y axes\n",
        "x_coords = np.linspace(0, 4.5, 10)      # 10 values between 0 and 45\n",
        "y_coords = np.linspace(-10, -5.5, 10)   # 10 values between -10 and -6.5\n",
        "\n",
        "# create the meshgrid\n",
        "meshgrid_x, meshgrid_y = np.meshgrid(x_coords, y_coords)\n",
        "print(meshgrid_x.shape, meshgrid_y.shape)  # all x, y coordinates of the mesh"
      ]
    },
    {
      "cell_type": "code",
      "execution_count": null,
      "metadata": {},
      "outputs": [],
      "source": [
        "print('x_coords:', x_coords)\n",
        "print('y_coords:', y_coords)"
      ]
    },
    {
      "cell_type": "code",
      "execution_count": null,
      "metadata": {
        "id": "DSk3KARGc_Yu"
      },
      "outputs": [],
      "source": [
        "print(meshgrid_x)"
      ]
    },
    {
      "cell_type": "code",
      "execution_count": null,
      "metadata": {
        "id": "EzqBiwAucs3H"
      },
      "outputs": [],
      "source": [
        "print(meshgrid_y)"
      ]
    },
    {
      "cell_type": "code",
      "execution_count": null,
      "metadata": {},
      "outputs": [],
      "source": [
        "# To plot the points created by the meshgrid we need to flatten them:\n",
        "\n",
        "x_coordinates = meshgrid_x.flatten()\n",
        "y_coordinates = meshgrid_y.flatten()\n",
        "\n",
        "plt.scatter(x_coordinates, y_coordinates)"
      ]
    },
    {
      "cell_type": "code",
      "execution_count": null,
      "metadata": {},
      "outputs": [],
      "source": [
        "# We can use the meshgrid to visualize a 2-dimensional function\n",
        "\n",
        "def function_2d(x, y):\n",
        "    return np.sin(x) + np.cos(y)\n",
        "z = function_2d(meshgrid_x, meshgrid_y)\n",
        "\n",
        "# Contourplot visualization\n",
        "\n",
        "plt.figure(figsize=(5,5))\n",
        "plt.contourf(meshgrid_x, meshgrid_y, z, cmap='viridis')\n",
        "plt.xlabel('x')\n",
        "plt.ylabel('y')\n",
        "plt.title('Contourplots of f(x,y)=sin(x)+cos(y)')\n",
        "\n",
        "# 2-d surface\n",
        "\n",
        "plt.figure(figsize=(5, 5))\n",
        "ax = plt.axes(projection='3d')\n",
        "surface = ax.plot_surface(meshgrid_x, meshgrid_y, z, cmap='viridis')\n",
        "plt.title('Visualization of f(x,y)=sin(x)+cos(y) as a 2d surface')\n",
        "ax.set_xlabel('x')\n",
        "ax.set_ylabel('y')\n",
        "ax.set_zlabel('z')"
      ]
    },
    {
      "cell_type": "code",
      "execution_count": null,
      "metadata": {
        "id": "g--l6v-cj-pS"
      },
      "outputs": [],
      "source": [
        "# Arrays can be concatenated along a specific axis, provided the other dimensions are same\n",
        "\n",
        "arr_1 = np.zeros(shape=(5, 3, 6))\n",
        "arr_2 = np.ones(shape=(5, 4, 6))\n",
        "\n",
        "print(arr_1.shape, arr_2.shape)\n",
        "#print(arr_1)\n",
        "#print(arr_2)"
      ]
    },
    {
      "cell_type": "code",
      "execution_count": null,
      "metadata": {
        "id": "_PDW38NTmdza"
      },
      "outputs": [],
      "source": [
        "arr_conc = np.concatenate((arr_1, arr_2), axis=1)\n",
        "\n",
        "print(arr_conc.shape)"
      ]
    },
    {
      "cell_type": "code",
      "execution_count": null,
      "metadata": {
        "id": "WXwDyLYjoOWg"
      },
      "outputs": [],
      "source": [
        "# stack along new last axis\n",
        "arr_stack = np.stack((arr_1, arr_2[:, :-1]), axis=-1)\n",
        "\n",
        "print(arr_stack.shape)"
      ]
    },
    {
      "cell_type": "code",
      "execution_count": null,
      "metadata": {
        "id": "OqkjxZxgpPti"
      },
      "outputs": [],
      "source": [
        "# Similarly to indexing one element, multiple elements of an array can be obtained\n",
        "y = np.arange(6)**2\n",
        "print(y)\n",
        "\n",
        "print(f'y[2] = {y[2]}')\n",
        "print(f'y[4] = {y[4]}')\n",
        "print(f'y[[2,4]] = {y[[2,4]]}')"
      ]
    },
    {
      "cell_type": "code",
      "execution_count": null,
      "metadata": {},
      "outputs": [],
      "source": [
        "# This trick can be useful to shuffle several arrays of elements coherently. \n",
        "# We first define a permutation and use it to reindex the original array:\n",
        "\n",
        "shuffled_indexes = np.random.permutation(len(y))\n",
        "y_shuffled = y[shuffled_indexes]\n",
        "\n",
        "print(f'y: {y}')\n",
        "print(f'shuffled_indexes: {shuffled_indexes}')\n",
        "print(f'y_shuffled: {y_shuffled}')\n",
        "print()\n",
        "print(f'y[shuffled_indexes] = y_shuffled : {y}[{shuffled_indexes}] = {y_shuffled}')"
      ]
    },
    {
      "cell_type": "code",
      "execution_count": null,
      "metadata": {
        "id": "G2Xi9wBLm6aw"
      },
      "outputs": [],
      "source": [
        "# Boolean arrays of the same dimensions can be used as masks\n",
        "mask = [True, False, False, False, False, True]\n",
        "y_mask = y[mask]\n",
        "\n",
        "print(f'y[mask] = y_mask: {y}[{mask}] = {y[mask]}')"
      ]
    },
    {
      "cell_type": "code",
      "execution_count": null,
      "metadata": {
        "id": "OESo1PsNrQXM"
      },
      "outputs": [],
      "source": [
        "# This is useful to select a group of elements:\n",
        "mask_above_2 = y > 2\n",
        "print(mask_above_2)\n",
        "\n",
        "mask_less_17 = y <17\n",
        "print(mask_less_17)\n",
        "\n",
        "mask = mask_above_2 * mask_less_17  # elementwise `and` operation on Boolean numpy arrays\n",
        "print(mask)\n",
        "\n",
        "print('values between 2 and 17:', y[mask])"
      ]
    },
    {
      "cell_type": "code",
      "execution_count": null,
      "metadata": {
        "id": "fyCLpDiPsTXt"
      },
      "outputs": [],
      "source": [
        "# To get index of first smallest or largest element use `argmin` and `argmax`:\n",
        "\n",
        "print(y_shuffled)\n",
        "\n",
        "ixd_smallest = y_shuffled.argmin()\n",
        "ixd_largest = y_shuffled.argmax()\n",
        "\n",
        "print(f'index of smallest element: {ixd_smallest}. {y_shuffled}[{ixd_smallest}] = {y_shuffled[ixd_smallest]}')\n",
        "print(f'index of largest element: {ixd_largest}. {y_shuffled}[{ixd_largest}] = {y_shuffled[ixd_largest]}')"
      ]
    },
    {
      "cell_type": "code",
      "execution_count": null,
      "metadata": {
        "id": "uxnZuhd8tDYq"
      },
      "outputs": [],
      "source": [
        "# Form a multidimensional array, or if more the one element has to be found - use argwhere:\n",
        "coords_elements_above_3 = np.argwhere(rnd > 3)\n",
        "print(coords_elements_above_3)\n",
        "\n",
        "for i, j, k in coords_elements_above_3:\n",
        "  print(f'rnd[{i}, {j}, {k}] = {rnd[i, j, k]}')"
      ]
    },
    {
      "cell_type": "code",
      "execution_count": null,
      "metadata": {
        "id": "mfUt89BMXi_f"
      },
      "outputs": [],
      "source": [
        "# Transposing index groups allows to obtain index arrays for each axis\n",
        "arr_i, arr_j, arr_k = coords_elements_above_3.T\n",
        "print(arr_i)\n",
        "print(arr_j)\n",
        "print(arr_k)"
      ]
    },
    {
      "cell_type": "markdown",
      "metadata": {
        "id": "dvIWHnPdJT3w"
      },
      "source": [
        "# 4. Images"
      ]
    },
    {
      "cell_type": "markdown",
      "metadata": {},
      "source": [
        "Colored images are often stored as 3-d numpy arrays:"
      ]
    },
    {
      "cell_type": "code",
      "execution_count": null,
      "metadata": {
        "id": "VN2wP54lJaTk"
      },
      "outputs": [],
      "source": [
        "# Load an image from a file or a URL\n",
        "from skimage import io\n",
        "\n",
        "image = io.imread('https://github.com/neworldemancer/DSF5/raw/master/figures/unibe.jpg')\n",
        "\n",
        "print(f'The image is stored as a numpy array {type(image)}')\n",
        "\n",
        "# Note that the resulting image is of dimension N_pixel_1 x N_pixel_2 x 3, because it is a colored image with 3 color channels (red-green-blue, also called RGB color coding) \n",
        "\n",
        "print('Dimensions of a colored image: ', image.shape)"
      ]
    },
    {
      "cell_type": "code",
      "execution_count": null,
      "metadata": {
        "id": "l-UqZTNKaShx"
      },
      "outputs": [],
      "source": [
        "# Display an image with pyplot\n",
        "plt.imshow(image)"
      ]
    },
    {
      "cell_type": "markdown",
      "metadata": {},
      "source": [
        "Gray scale images are 2-d objects:"
      ]
    },
    {
      "cell_type": "code",
      "execution_count": null,
      "metadata": {},
      "outputs": [],
      "source": [
        "\n",
        "from skimage import color\n",
        "\n",
        "# Convert the image to grayscale\n",
        "gray_image = color.rgb2gray(image)\n",
        "\n",
        "print('Dimensions of a grayscale image: ', gray_image.shape)\n",
        "\n",
        "# Display the grayscale image\n",
        "plt.imshow(gray_image, cmap='gray')\n",
        "\n",
        "print(gray_image.shape)\n"
      ]
    },
    {
      "cell_type": "markdown",
      "metadata": {},
      "source": [
        "Visualization of a 2-d histogram as an image:"
      ]
    },
    {
      "cell_type": "code",
      "execution_count": null,
      "metadata": {},
      "outputs": [],
      "source": [
        "# Any 2D map can be visualized similarly, e.g. we can create a 2-d histogram of a dataset:\n",
        "\n",
        "# generate a random dataset of shape (1000 x 2)\n",
        "values = np.random.multivariate_normal([0, 0], [[1, 0.3],[ 0.3, 0.2]], size=1000)\n",
        "\n",
        "# plot the dataset \n",
        "plt.scatter(values[:,0], values[:,1], s=5)\n",
        "plt.title('Dataset scatterplot')\n",
        "\n",
        "plt.figure()\n",
        "\n",
        "# make a 2-d histogram of the dataset\n",
        "h, bx, by = np.histogram2d(values[:,0], values[:,1], bins = 20)\n",
        "\n",
        "print(h.shape)\n",
        "\n",
        "plt.title('Histogram visualization')\n",
        "plt.imshow(h, origin='lower')\n",
        "\n"
      ]
    }
  ],
  "metadata": {
    "colab": {
      "collapsed_sections": [
        "HG8uZJrln4kz",
        "TAmAx1ZDlXjT",
        "iqyBKVXmfHvn",
        "dvIWHnPdJT3w",
        "bbfroLuAnlce",
        "uRAvV9F1ouiV",
        "x7VLnpW3ywdE"
      ],
      "name": "Python key points homework",
      "provenance": []
    },
    "kernelspec": {
      "display_name": "Python 3",
      "name": "python3"
    },
    "language_info": {
      "codemirror_mode": {
        "name": "ipython",
        "version": 3
      },
      "file_extension": ".py",
      "mimetype": "text/x-python",
      "name": "python",
      "nbconvert_exporter": "python",
      "pygments_lexer": "ipython3",
      "version": "3.11.4"
    }
  },
  "nbformat": 4,
  "nbformat_minor": 0
}
